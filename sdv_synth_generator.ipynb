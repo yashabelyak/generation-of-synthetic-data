{
 "cells": [
  {
   "cell_type": "code",
   "execution_count": null,
   "id": "16bcfc9d",
   "metadata": {},
   "outputs": [],
   "source": [
    "# Импорт библиотек\n",
    "\n",
    "import warnings\n",
    "warnings.filterwarnings('ignore') # ignore any warnings \n",
    "\n",
    "import pandas as pd\n",
    "from sdv.tabular import GaussianCopula\n",
    "from sdv.tabular import CTGAN\n",
    "from sdv.tabular import CopulaGAN\n",
    "from sdv.tabular import TVAE\n",
    "from util.dataloader import *"
   ]
  },
  {
   "cell_type": "code",
   "execution_count": 12,
   "id": "3aaef174",
   "metadata": {},
   "outputs": [],
   "source": [
    "def generate_gaussian(in_file):\n",
    "    start_time = time.strftime(\"%H:%M:%S\", time.localtime())\n",
    "    gaussian_model = GaussianCopula()\n",
    "    gaussian_model.fit(real_df)\n",
    "    gaus_synthetic_df = gaussian_model.sample(SAMPLE_SIZE)\n",
    "    gaus_synthetic_df.to_csv(out_path1)\n",
    "    end_time = time.strftime(\"%H:%M:%S\", time.localtime())\n",
    "    print('Общее время генерации gaussian_synthesize '+in_file+ ' : {:.5f}'.format(elapsedtime(start_time, end_time))+ \" минут\")"
   ]
  },
  {
   "cell_type": "code",
   "execution_count": 13,
   "id": "762925e5",
   "metadata": {},
   "outputs": [],
   "source": [
    "def generate_ctgan(in_file):\n",
    "    start_time = time.strftime(\"%H:%M:%S\", time.localtime())\n",
    "    ctgan = CTGAN(batch_size = BATCH_SIZE, epochs = EPOCH)\n",
    "    ctgan.fit(real_df)\n",
    "    ctgan_synthetic_df = ctgan.sample(SAMPLE_SIZE)\n",
    "    ctgan_synthetic_df.to_csv(out_path2)\n",
    "    end_time = time.strftime(\"%H:%M:%S\", time.localtime())\n",
    "    print('Общее время генерации ctgan_synthesizer '+in_file+ ' : {:.5f}'.format(elapsedtime(start_time, end_time))+ \" минут\")"
   ]
  },
  {
   "cell_type": "code",
   "execution_count": 14,
   "id": "ad85ed22",
   "metadata": {},
   "outputs": [],
   "source": [
    "def generate_copula_gan(in_file):\n",
    "    start_time = time.strftime(\"%H:%M:%S\", time.localtime())\n",
    "    copula_gan_model = CopulaGAN(epochs=EPOCH,\n",
    "                batch_size=BATCH_SIZE,\n",
    "                generator_dim=(128, 128, 128),\n",
    "                discriminator_dim=(128, 128, 128))\n",
    "    copula_gan_model.fit(real_df)\n",
    "    cgan_synthetic_df = copula_gan_model.sample(SAMPLE_SIZE)\n",
    "    cgan_synthetic_df.to_csv(out_path3)\n",
    "    end_time = time.strftime(\"%H:%M:%S\", time.localtime())\n",
    "    '{:.5f}'.format\n",
    "    print('Общее время генерации cgan_synthesizer '+in_file+ ' : {:.5f}'.format(elapsedtime(start_time, end_time))+ \" минут\")"
   ]
  },
  {
   "cell_type": "code",
   "execution_count": 15,
   "id": "7aac11ad",
   "metadata": {},
   "outputs": [],
   "source": [
    "def generate_tvae(in_file):    \n",
    "    start_time = time.strftime(\"%H:%M:%S\", time.localtime())\n",
    "    tvae_model = TVAE(epochs=EPOCH,\n",
    "                batch_size=BATCH_SIZE)\n",
    "    tvae_model.fit(real_df)\n",
    "    tvae_synthetic_df = tvae_model.sample(SAMPLE_SIZE)\n",
    "    tvae_synthetic_df.to_csv(out_path4)\n",
    "    end_time = time.strftime(\"%H:%M:%S\", time.localtime())\n",
    "    print('Общее время генерации tvae_synthesizer '+in_file+ ' : {:.5f}'.format(elapsedtime(start_time, end_time))+ \" минут\")"
   ]
  },
  {
   "cell_type": "code",
   "execution_count": 16,
   "id": "574560f6",
   "metadata": {},
   "outputs": [],
   "source": [
    "def concat_anomaly_data():\n",
    "    #path1, path2, path3 = ''\n",
    "    path1 = '../Real Datasets/Anomaly Detection/Participants_Data_WH18/Train.csv'\n",
    "    path2 = '../Real Datasets/Anomaly Detection/Participants_Data_WH18/Test.csv'\n",
    "    path3 = '../Real Datasets/Anomaly Detection/Participants_Data_WH18/Sample_submission.csv'\n",
    "\n",
    "#    real1 = pd.read_csv(path1, header=0)\n",
    "#    real2 = pd.read_csv(path2, header=0)\n",
    "#    real3 = pd.read_csv(path3, header=0)\n",
    "    \n",
    "    real1 = pd.read_csv(path1)\n",
    "    real2 = pd.read_csv(path2)\n",
    "    real3 = pd.read_csv(path3)\n",
    "\n",
    "    df_list = [real2, real3]\n",
    "    test_df = pd.concat(df_list, axis=1)\n",
    "\n",
    "    real = real1.append(test_df)\n",
    "    real.to_csv('../Real Datasets/Anomaly Detection/Participants_Data_WH18/anomaly.csv')"
   ]
  },
  {
   "cell_type": "code",
   "execution_count": 17,
   "id": "b93f395e",
   "metadata": {},
   "outputs": [
    {
     "name": "stdout",
     "output_type": "stream",
     "text": [
      "Общее время генерации ctgan_synthesizer malware_detection : 1.2 минут\n",
      "Общее время генерации tvae_synthesizer malware_detection : 0.54 минут\n",
      "Общее время генерации ctgan_synthesizer anomaly : 10.73 минут\n",
      "Общее время генерации tvae_synthesizer anomaly : 2.2 минут\n"
     ]
    }
   ],
   "source": [
    "# загрузка датасетов\n",
    "\n",
    "in_file = ['malware_detection',\n",
    "         'anomaly']\n",
    "\n",
    "EPOCH = 10\n",
    "BATCH_SIZE = 50\n",
    "PATH = '../Real Datasets/'\n",
    "SAMPLE_SIZE = 2000\n",
    "\n",
    "for i in range(len(in_file)):\n",
    "    PATH = '../Real Datasets/'\n",
    "    #объединение файлов\n",
    "    if in_file[i] == 'anomaly':\n",
    "        concat_anomaly_data()\n",
    "        PATH = '../Real Datasets/Anomaly Detection/Participants_Data_WH18/'\n",
    "    elif in_file[i] == 'malware_detection':\n",
    "        PATH = '../Real Datasets/Malware Detection/'\n",
    "\n",
    "    real_df = pd.read_csv(PATH + str(in_file[i])+'.csv')\n",
    "    \n",
    "    if len(real_df) < SAMPLE_SIZE:\n",
    "        SAMPLE_SIZE = len(real_df)\n",
    "        #real_df = pd.read_csv(PATH + in_file+'.csv', nrows=SAMPLE_SIZE)\n",
    "    # out_path1 = '../Synthetic Datasets/sdv_gauss/sdv_gauss_'+in_file[i]+'.csv'\n",
    "    out_path2 = '../Synthetic Datasets/sdv_ctgan/sdv_ctgan_'+in_file[i]+'.csv'\n",
    "    # out_path3 = '../Synthetic Datasets/sdv_copula/sdv_copula_'+in_file[i]+'.csv'\n",
    "    out_path4 = '../Synthetic Datasets/sdv_tvae/sdv_tvae_'+in_file[i]+'.csv'\n",
    "    # generate_gaussian(in_file[i])\n",
    "    generate_ctgan(in_file[i])\n",
    "    # generate_copula_gan(in_file[i])\n",
    "    generate_tvae(in_file[i])"
   ]
  },
  {
   "cell_type": "code",
   "execution_count": null,
   "id": "3709a39e",
   "metadata": {},
   "outputs": [],
   "source": []
  }
 ],
 "metadata": {
  "kernelspec": {
   "display_name": "Python 3 (ipykernel)",
   "language": "python",
   "name": "python3"
  },
  "language_info": {
   "codemirror_mode": {
    "name": "ipython",
    "version": 3
   },
   "file_extension": ".py",
   "mimetype": "text/x-python",
   "name": "python",
   "nbconvert_exporter": "python",
   "pygments_lexer": "ipython3",
   "version": "3.11.7"
  }
 },
 "nbformat": 4,
 "nbformat_minor": 5
}
